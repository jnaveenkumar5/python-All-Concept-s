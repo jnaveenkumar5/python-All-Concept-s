{
 "cells": [
  {
   "cell_type": "markdown",
   "id": "4c22050b-8e9c-4225-b372-2c7d6993594d",
   "metadata": {},
   "source": [
    "### Looping or Control Statements\n",
    "1. For Loop\n",
    "2. While Loop\n",
    "#### types of Control statements\n",
    "1. break Statement → Terminates the loop immediately.\n",
    "2. continue → Skips the current iteration and moves to the next.\n",
    "3. pass → Does nothing (used as a placeholder)."
   ]
  },
  {
   "cell_type": "markdown",
   "id": "d1aec481-0dbc-48b6-b631-1030fbae3c53",
   "metadata": {},
   "source": [
    "#### For Loop\n",
    "1. For loop when range is defined.\n",
    "2. Used when iterating over a sequence or when the number of iterations is known."
   ]
  },
  {
   "cell_type": "code",
   "execution_count": 6,
   "id": "de3e1b2c-758a-4538-8d01-1fe140766773",
   "metadata": {},
   "outputs": [
    {
     "name": "stdout",
     "output_type": "stream",
     "text": [
      "1 2 a 5 g 9 "
     ]
    }
   ],
   "source": [
    "numbers=[1,2,'a',5,'g',9]\n",
    "for i in numbers:\n",
    "    print(i,end=' ')"
   ]
  },
  {
   "cell_type": "code",
   "execution_count": 10,
   "id": "ffb857eb-5003-4c00-b9f2-a03d21339403",
   "metadata": {},
   "outputs": [
    {
     "name": "stdout",
     "output_type": "stream",
     "text": [
      "1 2 3 4 5 6 7 8 9 "
     ]
    }
   ],
   "source": [
    "for i in range(1,10):\n",
    "    print(i,end=' ')"
   ]
  },
  {
   "cell_type": "code",
   "execution_count": 34,
   "id": "9a3f4354-db3c-4009-a59c-c7a320f59460",
   "metadata": {},
   "outputs": [
    {
     "name": "stdout",
     "output_type": "stream",
     "text": [
      "1 4 7 10 "
     ]
    }
   ],
   "source": [
    "for i in range(1,11,3):\n",
    "    print(i,end=' ')\n"
   ]
  },
  {
   "cell_type": "code",
   "execution_count": 78,
   "id": "2f0aa227-6a30-4c93-8a5e-4b1bca7516d1",
   "metadata": {},
   "outputs": [
    {
     "name": "stdout",
     "output_type": "stream",
     "text": [
      "2 4 6 8 10 12 14 16 18 20 22 24 26 28 30 32 34 36 38 40 42 44 46 48 , Even Numbers\n"
     ]
    }
   ],
   "source": [
    "# print even numbers\n",
    "for i in range(1,50):\n",
    "    if i%2==0:\n",
    "        print(i,end=' ')\n",
    "print(\", Even Numbers\")        "
   ]
  },
  {
   "cell_type": "code",
   "execution_count": 74,
   "id": "8db3a7ed-312f-49d4-9886-ccf5703ce0df",
   "metadata": {},
   "outputs": [
    {
     "name": "stdout",
     "output_type": "stream",
     "text": [
      "Hello"
     ]
    }
   ],
   "source": [
    "word=\"Hello\"\n",
    "for letter in word:\n",
    "    print(letter,end='')"
   ]
  },
  {
   "cell_type": "code",
   "execution_count": 89,
   "id": "3cb094bc-f3fc-4d61-87ab-097411dc8085",
   "metadata": {},
   "outputs": [
    {
     "name": "stdout",
     "output_type": "stream",
     "text": [
      "*\n",
      "**\n",
      "***\n",
      "****\n",
      "*****\n",
      "******\n"
     ]
    }
   ],
   "source": [
    "for i in range(1,7,1):\n",
    "    print(\"*\"*i)"
   ]
  },
  {
   "cell_type": "code",
   "execution_count": 121,
   "id": "e31d6041-b9cb-4c96-aae8-5b837ae0fe3c",
   "metadata": {},
   "outputs": [
    {
     "name": "stdout",
     "output_type": "stream",
     "text": [
      "*******\n",
      "******\n",
      "*****\n",
      "****\n",
      "***\n",
      "**\n"
     ]
    }
   ],
   "source": [
    "for i in range(7,1,-1):\n",
    "    print(\"*\"*i)"
   ]
  },
  {
   "cell_type": "markdown",
   "id": "ec5b3b1b-4af3-44ca-b13e-c24f7b1a7e79",
   "metadata": {},
   "source": [
    "#### While Loop\n",
    "- While loop repeats a block of code as long as specified condition true."
   ]
  }
 ],
 "metadata": {
  "kernelspec": {
   "display_name": "Python [conda env:base] *",
   "language": "python",
   "name": "conda-base-py"
  },
  "language_info": {
   "codemirror_mode": {
    "name": "ipython",
    "version": 3
   },
   "file_extension": ".py",
   "mimetype": "text/x-python",
   "name": "python",
   "nbconvert_exporter": "python",
   "pygments_lexer": "ipython3",
   "version": "3.12.7"
  }
 },
 "nbformat": 4,
 "nbformat_minor": 5
}
