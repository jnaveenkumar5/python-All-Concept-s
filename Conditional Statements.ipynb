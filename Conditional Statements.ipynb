{
 "cells": [
  {
   "cell_type": "markdown",
   "id": "22ca3d5a-2d02-4b8d-8ce3-094a903379a6",
   "metadata": {},
   "source": [
    "### Conditional statements\n",
    "three types of conditional statements\n",
    "1. If\n",
    "2. If else\n",
    "3. If elif"
   ]
  },
  {
   "cell_type": "code",
   "execution_count": 3,
   "id": "e3bb5876-df4a-407e-a625-879070f74c23",
   "metadata": {},
   "outputs": [
    {
     "name": "stdout",
     "output_type": "stream",
     "text": [
      "Bring 1kg of tomatoes\n"
     ]
    }
   ],
   "source": [
    "#if condition # Executes a block of code only if the condition is True.\n",
    "Tomato=15\n",
    "if Tomato <=20:\n",
    "    print(\"Bring 1kg of tomatoes\")"
   ]
  },
  {
   "cell_type": "code",
   "execution_count": 1,
   "id": "b343945b-1b01-4a75-89e9-818cb8b1d690",
   "metadata": {},
   "outputs": [
    {
     "name": "stdout",
     "output_type": "stream",
     "text": [
      "b is greater than a\n"
     ]
    }
   ],
   "source": [
    "a=33\n",
    "b=56\n",
    "if b>a:\n",
    "    print(\"b is greater than a\")"
   ]
  },
  {
   "cell_type": "code",
   "execution_count": 4,
   "id": "31d76799-4b9b-4650-abd4-04225e3388d0",
   "metadata": {},
   "outputs": [
    {
     "name": "stdout",
     "output_type": "stream",
     "text": [
      "You are eligible to Vote\n"
     ]
    }
   ],
   "source": [
    "#if condition\n",
    "age=18\n",
    "if age>=18:\n",
    "    print(\"You are eligible to Vote\")"
   ]
  },
  {
   "cell_type": "code",
   "execution_count": 8,
   "id": "3ce5a0de-9a99-47ab-bcd9-b18e2e7a6eed",
   "metadata": {},
   "outputs": [
    {
     "name": "stdout",
     "output_type": "stream",
     "text": [
      "Data Science\n"
     ]
    }
   ],
   "source": [
    "x=9\n",
    "if x<10:\n",
    "    print(\"Data Science\")"
   ]
  },
  {
   "cell_type": "code",
   "execution_count": 12,
   "id": "b194f1c1-d047-4f79-92c7-d4a322e5b857",
   "metadata": {},
   "outputs": [
    {
     "name": "stdout",
     "output_type": "stream",
     "text": [
      "Data Science\n"
     ]
    }
   ],
   "source": [
    "if True:\n",
    "    print(\"Data Science\")"
   ]
  },
  {
   "cell_type": "code",
   "execution_count": 14,
   "id": "e99ad2d4-045a-46cf-a96d-b826de60e42c",
   "metadata": {},
   "outputs": [
    {
     "name": "stdout",
     "output_type": "stream",
     "text": [
      "Data Analyst\n"
     ]
    }
   ],
   "source": [
    "if 1:\n",
    "    print(\"Data Analyst\")"
   ]
  },
  {
   "cell_type": "code",
   "execution_count": 16,
   "id": "e4ebad25-3491-45e5-babb-e7742d6166fc",
   "metadata": {},
   "outputs": [
    {
     "name": "stdout",
     "output_type": "stream",
     "text": [
      "Data\n"
     ]
    }
   ],
   "source": [
    "x=10\n",
    "if x%2==0:\n",
    "    print(\"Data\")"
   ]
  },
  {
   "cell_type": "code",
   "execution_count": 24,
   "id": "bc3856a0-d71d-4e60-b6a1-27544a51f45f",
   "metadata": {},
   "outputs": [
    {
     "name": "stdout",
     "output_type": "stream",
     "text": [
      "Data\n"
     ]
    }
   ],
   "source": [
    "x=11 # = Used to assign a value to a variable.== Used to compare two values.\n",
    "if x//2==5:\n",
    "    print(\"Data\")"
   ]
  },
  {
   "cell_type": "code",
   "execution_count": 58,
   "id": "ec253869-b5e0-4ac2-b286-c61c8aade64c",
   "metadata": {},
   "outputs": [
    {
     "name": "stdin",
     "output_type": "stream",
     "text": [
      " 14\n"
     ]
    },
    {
     "name": "stdout",
     "output_type": "stream",
     "text": [
      "Data Science\n"
     ]
    }
   ],
   "source": [
    "x=int(input())\n",
    "if ((x%2==0) and (x<15)):\n",
    "    print(\"Data Science\")"
   ]
  },
  {
   "cell_type": "code",
   "execution_count": 66,
   "id": "140a61c7-bd10-4344-ba29-8d3e63e0302c",
   "metadata": {},
   "outputs": [
    {
     "name": "stdin",
     "output_type": "stream",
     "text": [
      " 26\n"
     ]
    },
    {
     "name": "stdout",
     "output_type": "stream",
     "text": [
      "You are eligible to vote\n"
     ]
    }
   ],
   "source": [
    "#if else # Executes one block if the condition is True, otherwise executes another block.\n",
    "age=int(input())\n",
    "if age>=18:\n",
    "    print(\"You are eligible to vote\")\n",
    "else:\n",
    "    print(\"You are not eligible to vote\")"
   ]
  },
  {
   "cell_type": "code",
   "execution_count": 72,
   "id": "26748868-afb8-4531-ae6d-c2f3b9dc1319",
   "metadata": {},
   "outputs": [
    {
     "name": "stdout",
     "output_type": "stream",
     "text": [
      "Analyst\n"
     ]
    }
   ],
   "source": [
    "x=\"Data Analyst\"\n",
    "if \"Dan\" in x:\n",
    "    print(\"Data\")\n",
    "else:\n",
    "    print(\"Analyst\")"
   ]
  },
  {
   "cell_type": "code",
   "execution_count": 84,
   "id": "564322a1-9d76-4ef8-b975-5e3c2519e229",
   "metadata": {},
   "outputs": [
    {
     "name": "stdin",
     "output_type": "stream",
     "text": [
      " 23\n"
     ]
    },
    {
     "name": "stdout",
     "output_type": "stream",
     "text": [
      "Allowed\n"
     ]
    }
   ],
   "source": [
    "age=int(input())\n",
    "has_permission=True\n",
    "if age >=18:\n",
    "    if has_permission:\n",
    "        print(\"Allowed\")\n",
    "    else:\n",
    "        print(\"Not Allowed\")\n",
    "else:\n",
    "    if age>=13:\n",
    "        print(\"Allowed with Guardian\")\n",
    "    else:\n",
    "        print(\"You Not allowed\")\n",
    "    \n",
    "        "
   ]
  },
  {
   "cell_type": "code",
   "execution_count": 92,
   "id": "56be316c-7b8c-4685-a717-c0a41c6bb335",
   "metadata": {},
   "outputs": [
    {
     "name": "stdin",
     "output_type": "stream",
     "text": [
      " 90\n"
     ]
    },
    {
     "name": "stdout",
     "output_type": "stream",
     "text": [
      "Grade A+\n"
     ]
    }
   ],
   "source": [
    "# if elif #Checks multiple conditions and executes the first True block.\n",
    "marks=int(input())\n",
    "if marks<35:\n",
    "    print(\"Fail\")\n",
    "elif marks >=35 and marks <50:\n",
    "    print(\"Grade C\")\n",
    "elif marks >=50 and marks <75:\n",
    "    print(\"Grade B\")\n",
    "elif marks >=75 and marks <90:\n",
    "    print(\"Grade A\")\n",
    "else:\n",
    "    print(\"Grade A+\")"
   ]
  },
  {
   "cell_type": "markdown",
   "id": "78fbcc88-2228-429f-a8e8-fb05fb5aad03",
   "metadata": {},
   "source": [
    "### Pass statement"
   ]
  },
  {
   "cell_type": "code",
   "execution_count": 2,
   "id": "6e87fac3-5881-417b-aaf7-89b5d89aeb30",
   "metadata": {},
   "outputs": [],
   "source": [
    "a=10\n",
    "b=200\n",
    "if b>a:\n",
    "    pass"
   ]
  },
  {
   "cell_type": "code",
   "execution_count": null,
   "id": "f6423687-efc4-486a-ae72-037900a8bbfd",
   "metadata": {},
   "outputs": [],
   "source": []
  }
 ],
 "metadata": {
  "kernelspec": {
   "display_name": "Python [conda env:base] *",
   "language": "python",
   "name": "conda-base-py"
  },
  "language_info": {
   "codemirror_mode": {
    "name": "ipython",
    "version": 3
   },
   "file_extension": ".py",
   "mimetype": "text/x-python",
   "name": "python",
   "nbconvert_exporter": "python",
   "pygments_lexer": "ipython3",
   "version": "3.12.7"
  }
 },
 "nbformat": 4,
 "nbformat_minor": 5
}
